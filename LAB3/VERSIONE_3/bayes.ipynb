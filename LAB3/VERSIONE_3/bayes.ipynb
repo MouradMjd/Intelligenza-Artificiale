{
 "cells": [
  {
   "cell_type": "code",
   "metadata": {
    "id": "l7JoXbPoXy_F",
    "ExecuteTime": {
     "end_time": "2025-03-20T16:48:43.556267Z",
     "start_time": "2025-03-20T16:48:37.975582Z"
    }
   },
   "source": [
    "from unittest import result\n",
    "\n",
    "import numpy\n",
    "!pip install onedrivedownloader==1.1.3"
   ],
   "outputs": [
    {
     "name": "stdout",
     "output_type": "stream",
     "text": [
      "Requirement already satisfied: onedrivedownloader==1.1.3 in c:\\users\\moura\\miniconda3\\lib\\site-packages (1.1.3)\n",
      "Requirement already satisfied: requests in c:\\users\\moura\\miniconda3\\lib\\site-packages (from onedrivedownloader==1.1.3) (2.32.3)\n",
      "Requirement already satisfied: tqdm in c:\\users\\moura\\miniconda3\\lib\\site-packages (from onedrivedownloader==1.1.3) (4.67.1)\n",
      "Requirement already satisfied: charset-normalizer<4,>=2 in c:\\users\\moura\\miniconda3\\lib\\site-packages (from requests->onedrivedownloader==1.1.3) (3.3.2)\n",
      "Requirement already satisfied: idna<4,>=2.5 in c:\\users\\moura\\miniconda3\\lib\\site-packages (from requests->onedrivedownloader==1.1.3) (3.7)\n",
      "Requirement already satisfied: urllib3<3,>=1.21.1 in c:\\users\\moura\\miniconda3\\lib\\site-packages (from requests->onedrivedownloader==1.1.3) (2.3.0)\n",
      "Requirement already satisfied: certifi>=2017.4.17 in c:\\users\\moura\\miniconda3\\lib\\site-packages (from requests->onedrivedownloader==1.1.3) (2025.1.31)\n",
      "Requirement already satisfied: colorama in c:\\users\\moura\\miniconda3\\lib\\site-packages (from tqdm->onedrivedownloader==1.1.3) (0.4.6)\n"
     ]
    }
   ],
   "execution_count": 29
  },
  {
   "cell_type": "code",
   "metadata": {
    "id": "fsYE8NBYW0nk",
    "ExecuteTime": {
     "end_time": "2025-03-20T16:48:47.227115Z",
     "start_time": "2025-03-20T16:48:43.616367Z"
    }
   },
   "source": [
    "import os\n",
    "import gzip\n",
    "import numpy as np\n",
    "import matplotlib.pyplot as plt\n",
    "from onedrivedownloader import download\n",
    "\n",
    "download('https://unimore365-my.sharepoint.com/:u:/g/personal/215580_unimore_it/EXhnxAKIfcdIqSRJoFc_C6EBCT6S0CNLOYFW3ShqivC46w?e=Ii4NOp',\n",
    "                                                      filename='./mnist/mnist_mnist.zip',\n",
    "                                                      unzip=True)\n",
    "\n",
    "def load_mnist_digits():\n",
    "    \"\"\"\n",
    "    Loads mnist (original, with digits).\n",
    "\n",
    "    Returns\n",
    "    -------\n",
    "    tuple:\n",
    "        x_train with shape(n_train_samples, h, w)\n",
    "        y_train with shape(n_train_samples,)\n",
    "        x_test with shape(n_test_samples, h, w)\n",
    "        y_test with shape(n_test_samples,)\n",
    "    \"\"\"\n",
    "\n",
    "    x_train = np.load('mnist/x_train.npy')\n",
    "    y_train = np.load('mnist/y_train.npy')\n",
    "\n",
    "    x_test = np.load('mnist/x_test.npy')\n",
    "    y_test = np.load('mnist/y_test.npy')\n",
    "\n",
    "    label_dict = {i: str(i) for i in range(0, 10)}\n",
    "\n",
    "    return x_train, y_train, x_test, y_test, label_dict\n",
    "\n",
    "\n",
    "def load_mnist(threshold=0.5):\n",
    "    \"\"\"\n",
    "    Loads MNIST data (either digits or fashion) and returns it binarized.\n",
    "\n",
    "    Parameters\n",
    "    ----------\n",
    "    threshold: float\n",
    "        a threshold in [0, 1] to binarize w.r.t.\n",
    "\n",
    "    Returns\n",
    "    -------\n",
    "    tuple:\n",
    "        x_train with shape(n_train_samples, h, w)\n",
    "        y_train with shape(n_train_samples,)\n",
    "        x_test with shape(n_test_samples, h, w)\n",
    "        y_test with shape(n_test_samples,)\n",
    "    \"\"\"\n",
    "\n",
    "    x_train, y_train, x_test, y_test, label_dict = load_mnist_digits()\n",
    "\n",
    "    x_train = np.float32(x_train) / 255.\n",
    "    x_train[x_train >= threshold] = 1\n",
    "    x_train[x_train < threshold] = 0\n",
    "\n",
    "    x_test = np.float32(x_test) / 255.\n",
    "    x_test[x_test >= threshold] = 1\n",
    "    x_test[x_test < threshold] = 0\n",
    "\n",
    "    return x_train, y_train, x_test, y_test, label_dict"
   ],
   "outputs": [
    {
     "name": "stdout",
     "output_type": "stream",
     "text": [
      "Unzipping file...\n"
     ]
    },
    {
     "name": "stderr",
     "output_type": "stream",
     "text": [
      "Extracting files: 100%|██████████| 4/4 [00:00<00:00, 1356.39it/s]\n"
     ]
    }
   ],
   "execution_count": 30
  },
  {
   "cell_type": "code",
   "metadata": {
    "id": "ua32NN0TYHga",
    "ExecuteTime": {
     "end_time": "2025-03-20T16:48:47.339473Z",
     "start_time": "2025-03-20T16:48:47.290295Z"
    }
   },
   "source": [
    "\"\"\"\n",
    "Class that models a Naive Bayes Classifier\n",
    "\"\"\"\n",
    "\n",
    "import numpy as np\n",
    "\n",
    "class NaiveBayesClassifier:\n",
    "    \"\"\"\n",
    "    Naive Bayes Classifier.\n",
    "    Training:\n",
    "    For each class, a naive likelihood model is estimated for P(X/Y),\n",
    "    and the prior probability P(Y) is computed.\n",
    "    Inference:\n",
    "    performed according with the Bayes rule:\n",
    "    P = argmax_Y (P(X/Y) * P(Y))\n",
    "    or\n",
    "    P = argmax_Y (log(P(X/Y)) + log(P(Y)))\n",
    "    \"\"\"\n",
    "\n",
    "    def __init__(self):\n",
    "        \"\"\"\n",
    "        Class constructor\n",
    "        \"\"\"\n",
    "\n",
    "        self._classes = None\n",
    "        self._n_classes = 0\n",
    "\n",
    "        self._eps = np.finfo(np.float32).eps\n",
    "\n",
    "        # array of probabilities of a pixel being  1 (for each class)\n",
    "        self._pixel_probs_given_class = []\n",
    "        # array of classes prior probabilities\n",
    "        self._prob_prior_class=[]\n",
    "        #array of prob per ogni immagine\n",
    "        self._prob_image_for_every_class=[]\n",
    "        #array varianza\n",
    "        self._pixel_std_given_class = []\n",
    "        #vettore media\n",
    "        self._medie=[]\n",
    "        #matrice covarianza classi \n",
    "        self._matrici_covarianza=[]\n",
    "        #matrice covarianza comune a tutte classi\n",
    "        self._matrice_covarianza_com=[]\n",
    "\n",
    "\n",
    "    def fit(self, X, Y):\n",
    "        \"\"\"\n",
    "        Computes, for each class, a naive likelihood model (self._pixel_probs_given_class),\n",
    "        and a prior probability (self.class_priors).\n",
    "        Both quantities are estimated from examples X and Y.\n",
    "\n",
    "        Parameters\n",
    "        ----------\n",
    "        X: np.array\n",
    "            input MNIST digits. Has shape (n_train_samples, h, w)\n",
    "            #X e un garande lista di matrici 28x28 in cui ogni matrice e un immagine \n",
    "            X = np.array([[1, 2, 3, 4],\n",
    "              [5, 6, 7, 8],\n",
    "              [9, 10, 11, 12],\n",
    "              [13, 14, 15, 16]])\n",
    "        Y: np.array\n",
    "            labels for MNIST digits. Has shape (n_train_samples,)\n",
    "            #Y e una lista di etichette  associate con matrici in X che mi dice a che classe si riferisce\n",
    "            Y=[0, 1, 0, 1]\n",
    "        \"\"\"\n",
    "        #calcolo media e varianza per  ogni classe \n",
    "        for i in range(10):\n",
    "            #predo tutte img di una classe\n",
    "            img_class=X[Y==i]\n",
    "            #calcolo med di i-esima classe, ottengo vettore 784pixel rappresenta la media dei pixel per la i-esima classe da aggiungere alti \n",
    "            #in questo self._medie ha una riga per ogni classe con 784 pixel con media questi  idem varianza \n",
    "            self._medie.append(np.mean(img_class,axis=0))\n",
    "            # ogni immagine (matrice 2D o 3D) diventa una riga di un array 2D, dove ogni riga è un vettore di feature.\n",
    "            #num righe shape[0]=num_img e con -1 dico a py di schiacciare img in riga \n",
    "            img_class=img_class.reshape(img_class.shape[0],-1)\n",
    "            #calcolo matrice di covarainza classe \n",
    "            self._matrice_covarianza_com.append(np.cov(img_class, rowvar=False))\n",
    "            #clacolo prior\n",
    "            self._prob_prior_class.insert(i,(np.sum(Y==i)/np.sum(Y)))       \n",
    "    \n",
    "        pass\n",
    "\n",
    "    def predict(self, X, return_pred=False):\n",
    "        \"\"\"\n",
    "        2)predict LDA una sola matrice di predict covarianza per tutte le classi(calcolando con sda una matrice di cova per tutte le classe)\n",
    "        Parameters\n",
    "   \n",
    "        ----------\n",
    "        X: np.array\n",
    "            MNIST test images. Has shape (n_test_samples, h, w).\n",
    "\n",
    "        Returns\n",
    "        -------\n",
    "        prediction: np.array\n",
    "            model predictions over X. Has shape (n_test_samples,)\n",
    "        \"\"\"\n",
    "\n",
    "        #num img\n",
    "        n_test_img=X.shape[0]\n",
    "        #reschape X che diventa un vettore 2D con n_test_img righe una per ogni immagine in cui ogni immagine e un solo vettore 1Xnum_pixel_immagine\n",
    "        X=X.reshape((n_test_img,-1))\n",
    "        #creo una matrice in cui su ogni riga avrò un immagine e sulle colonne le varie classi e man mano che itero su classi riempio colonne \n",
    "        result=np.zeros((n_test_img,10))\n",
    "        #calcolo matrice di covarianza comune a classi\n",
    "        self._matrice_covarianza_com=np.mean(self._matrici_covarianza,axis=0)\n",
    "        for i in range(10):\n",
    "            #mat medie pixel\n",
    "            media_i_pixels=self._medie[i]\n",
    "            #faccio reshape\n",
    "            media_i_pixels=media_i_pixels.reshape((1,-1))\n",
    "            inv_cov = np.linalg.inv(self._matrice_covarianza_com)\n",
    "            # Calcolo probabilità log-gaussiana multivariata\n",
    "            diff = X - media_i_pixels  # Differenza tra dati e media della classe\n",
    "            probs = -0.5 * np.einsum('ij, jk, ik -> i', diff, inv_cov, diff)\n",
    "            #sommo prob a priori\n",
    "            probs=probs+np.log(self._prob_prior_class[i]+self._eps)\n",
    "            #aggiungo prob a result come colonna  per i-esima classe avendo in riga per ogni cella  la prob che appartenga a classe i riferita a colonna\n",
    "            result[:,i]=probs\n",
    "            \n",
    "        \n",
    "            \n",
    "        #ritorno il vettore con le previsioni facendo argmax su ogni riga per trovare prob max classe\n",
    "        return np.argmax(result,axis=1)    \n",
    "            \n",
    "            \n",
    "\n",
    "            \n",
    "        \n",
    "            \n",
    "            \n",
    "       \n",
    "                 \n",
    "    \n",
    "    @staticmethod\n",
    "    def _estimate_pixel_probabilities(images):\n",
    "        \"\"\"\n",
    "        [OPTIONAL!]\n",
    "        Estimates pixel probabilities from data.\n",
    "\n",
    "        Parameters\n",
    "        ----------\n",
    "        images: np.array\n",
    "            images to estimate pixel probabilities from. Has shape (n_images, h, w)\n",
    "\n",
    "        Returns\n",
    "        -------\n",
    "        pix_probs: np.array\n",
    "            probabilities for each pixel of being 1, estimated from images.\n",
    "            Has shape (h, w)\n",
    "        \"\"\"\n",
    "        #creo matrice con somma tutti uno per ogni cella rispetto tutte le immagini\n",
    "        matr=np.sum(images, axis=0)\n",
    "        # numero totale di immagini \n",
    "        tot_img=images.shape[0]\n",
    "        #calcolo la matrice di probabilita per ogni pixel dividendo il numero di volte che questo e acceso nelle immagini e num di immagini diponibili\n",
    "        probmat=matr/tot_img\n",
    "        #ritorno la matrice con per ogni cella la pobabilità che questa sia a uno ripetto a tutte le immagini che ho\n",
    "        return probmat\n",
    "\n",
    "            \n",
    "\n",
    "    def get_log_likelihood_under_model(self, images, model):\n",
    "        \"\"\"\n",
    "        [OPTIONAL!]\n",
    "        Returns the likelihood of many images under a certain model.\n",
    "        Naive:\n",
    "        the likelihood of the image is the product of the likelihood of each pixel.\n",
    "        or\n",
    "        the log-likelihood of the image is the sum of the log-likelihood of each pixel.\n",
    "\n",
    "        Parameters\n",
    "        ----------\n",
    "        images: np.array\n",
    "            input images. Having shape (n_images, h, w).\n",
    "        model: np.array\n",
    "            a model of pixel probabilities, having shape (h, w)\n",
    "\n",
    "        Returns\n",
    "        -------\n",
    "        lkl: np.array\n",
    "            the likelihood of each pixel under the model, having shape (h, w).\n",
    "        \"\"\"\n",
    "        likelyhoodallimg=[]\n",
    "        #calcolo matrice likelyhood per ogni immagine\n",
    "        for img in images:\n",
    "            martproblikelyhood=img*np.log(model+self._eps)+(1-img)*np.log(1-model+self._eps)\n",
    "            likelyhoodallimg.append(martproblikelyhood)  \n",
    "            \n",
    "        return np.array(likelyhoodallimg)   \n",
    "        "
   ],
   "outputs": [],
   "execution_count": 31
  },
  {
   "cell_type": "code",
   "metadata": {
    "id": "Fa15Lpq2as0A",
    "ExecuteTime": {
     "end_time": "2025-03-20T16:48:48.829643Z",
     "start_time": "2025-03-20T16:48:47.419606Z"
    }
   },
   "source": [
    "import numpy as np\n",
    "import matplotlib.pyplot as plt\n",
    "\n",
    "x_train, y_train, x_test, y_test, label_dict = load_mnist(threshold=0.5)\n",
    "\n",
    "print(f\"Training set -> number of examples: {len(x_train)}\")\n",
    "print(f\"Test set -> number of examples: {len(x_test)}\")\n",
    "print('-'*30)\n",
    "print(f'X -> shape: {x_train.shape}')\n",
    "print(f\"X -> dtype: {x_train.dtype}\")\n",
    "print(f\"X -> min: {x_train.min()}\")\n",
    "print(f\"X -> max: {x_train.max()}\")\n",
    "print(f\"X -> values: {np.unique(x_train)}\")\n",
    "print('-'*30)\n",
    "print(f\"Classes: {(np.unique(y_train))}\")\n"
   ],
   "outputs": [
    {
     "name": "stdout",
     "output_type": "stream",
     "text": [
      "Training set -> number of examples: 60000\n",
      "Test set -> number of examples: 10000\n",
      "------------------------------\n",
      "X -> shape: (60000, 28, 28)\n",
      "X -> dtype: float32\n",
      "X -> min: 0.0\n",
      "X -> max: 1.0\n",
      "X -> values: [0. 1.]\n",
      "------------------------------\n",
      "Classes: [0 1 2 3 4 5 6 7 8 9]\n"
     ]
    }
   ],
   "execution_count": 32
  },
  {
   "cell_type": "code",
   "metadata": {
    "id": "2fu6xDJRbyff",
    "ExecuteTime": {
     "end_time": "2025-03-20T16:48:50.172544Z",
     "start_time": "2025-03-20T16:48:48.849828Z"
    }
   },
   "source": [
    "num_row, num_col = 1, 10\n",
    "len_tr = len(x_train)\n",
    "f, subplots = plt.subplots(num_row, num_col, sharex='col', sharey='row')\n",
    "\n",
    "for cls in np.unique(y_train):\n",
    "    idx = np.arange(len_tr)[y_train == cls]\n",
    "    idx = np.random.choice(idx)\n",
    "    X_img = x_train[idx]\n",
    "    subplots[cls].imshow(X_img, cmap='gray',\n",
    "                       interpolation='nearest', aspect='auto')\n",
    "    subplots[cls].set_title(f'Digit {cls}', fontweight=\"bold\")\n",
    "    subplots[cls].grid(visible=False)\n",
    "    subplots[cls].axis('off')\n",
    "\n",
    "f.set_size_inches(22.5, 4.5)"
   ],
   "outputs": [
    {
     "data": {
      "text/plain": [
       "<Figure size 2250x450 with 10 Axes>"
      ],
      "image/png": "[encoded data removed]"
     },
     "metadata": {},
     "output_type": "display_data"
    }
   ],
   "execution_count": 33
  },
  {
   "cell_type": "markdown",
   "metadata": {
    "id": "-0veJlp2fNEI"
   },
   "source": [
    "**Step 1: training the Naive Bayes classifier on the training set.**"
   ]
  },
  {
   "cell_type": "code",
   "metadata": {
    "id": "igAkkWhAfFEX",
    "ExecuteTime": {
     "end_time": "2025-03-20T16:48:51.171045Z",
     "start_time": "2025-03-20T16:48:50.275485Z"
    }
   },
   "source": [
    "# get the model\n",
    "nbc = NaiveBayesClassifier()\n",
    "\n",
    "# train\n",
    "nbc.fit(x_train, y_train)"
   ],
   "outputs": [],
   "execution_count": 34
  },
  {
   "cell_type": "markdown",
   "metadata": {
    "id": "v1aGqvp4fpDB"
   },
   "source": [
    "**Step 2: evaluating the performance of the classifier on a set of unseen data (test set).**"
   ]
  },
  {
   "cell_type": "code",
   "metadata": {
    "id": "RVcK2ezWfIkX",
    "ExecuteTime": {
     "end_time": "2025-03-20T16:48:51.581942Z",
     "start_time": "2025-03-20T16:48:51.184591Z"
    }
   },
   "source": [
    "import itertools\n",
    "\n",
    "def plot_confusion_matrix(targets, predictions, classes,\n",
    "                          normalize=True,\n",
    "                          title='Confusion matrix',\n",
    "                          cmap=plt.cm.Blues):\n",
    "    \"\"\"\n",
    "    This function prints and plots the confusion matrix.\n",
    "    Normalization can be applied by setting `normalize=True`.\n",
    "    \"\"\"\n",
    "    n_classes, = np.unique(targets).shape\n",
    "\n",
    "    cm = np.zeros(shape=(n_classes, n_classes), dtype=np.float32)\n",
    "    for t, p in zip(targets, predictions):\n",
    "        cm[int(t), int(p)] += 1\n",
    "\n",
    "    if normalize:\n",
    "        cm /= cm.sum(axis=1)\n",
    "\n",
    "    plt.imshow(cm, interpolation='nearest', cmap=cmap)\n",
    "    plt.title(title)\n",
    "    plt.colorbar()\n",
    "    tick_marks = np.arange(len(classes))\n",
    "    plt.xticks(tick_marks, classes, rotation=45)\n",
    "    plt.yticks(tick_marks, classes)\n",
    "\n",
    "    fmt = '.2f'\n",
    "    thresh = cm.max() / 2.\n",
    "    for i, j in itertools.product(range(cm.shape[0]), range(cm.shape[1])):\n",
    "        plt.text(j, i, format(cm[i, j], fmt),\n",
    "                 horizontalalignment=\"center\",\n",
    "                 color=\"white\" if cm[i, j] > thresh else \"black\")\n",
    "\n",
    "    plt.tight_layout()\n",
    "    plt.ylabel('True label')\n",
    "    plt.xlabel('Predicted label')\n",
    "\n",
    "# test\n",
    "predictions = nbc.predict(x_test.reshape((len(x_test), -1)))\n",
    "\n",
    "# evaluate performances\n",
    "accuracy = np.sum(np.uint8(predictions == y_test)) / len(y_test)\n",
    "print('Accuracy: {}'.format(accuracy))\n",
    "\n",
    "# show confusion matrix\n",
    "plot_confusion_matrix(targets=y_test,\n",
    "                      predictions=predictions,\n",
    "                      classes=[label_dict[l] for l in label_dict])"
   ],
   "outputs": [
    {
     "ename": "LinAlgError",
     "evalue": "0-dimensional array given. Array must be at least two-dimensional",
     "output_type": "error",
     "traceback": [
      "\u001B[31m---------------------------------------------------------------------------\u001B[39m",
      "\u001B[31mLinAlgError\u001B[39m                               Traceback (most recent call last)",
      "\u001B[36mCell\u001B[39m\u001B[36m \u001B[39m\u001B[32mIn[35]\u001B[39m\u001B[32m, line 39\u001B[39m\n\u001B[32m     36\u001B[39m     plt.xlabel(\u001B[33m'\u001B[39m\u001B[33mPredicted label\u001B[39m\u001B[33m'\u001B[39m)\n\u001B[32m     38\u001B[39m \u001B[38;5;66;03m# test\u001B[39;00m\n\u001B[32m---> \u001B[39m\u001B[32m39\u001B[39m predictions = \u001B[43mnbc\u001B[49m\u001B[43m.\u001B[49m\u001B[43mpredict\u001B[49m\u001B[43m(\u001B[49m\u001B[43mx_test\u001B[49m\u001B[43m.\u001B[49m\u001B[43mreshape\u001B[49m\u001B[43m(\u001B[49m\u001B[43m(\u001B[49m\u001B[38;5;28;43mlen\u001B[39;49m\u001B[43m(\u001B[49m\u001B[43mx_test\u001B[49m\u001B[43m)\u001B[49m\u001B[43m,\u001B[49m\u001B[43m \u001B[49m\u001B[43m-\u001B[49m\u001B[32;43m1\u001B[39;49m\u001B[43m)\u001B[49m\u001B[43m)\u001B[49m\u001B[43m)\u001B[49m\n\u001B[32m     41\u001B[39m \u001B[38;5;66;03m# evaluate performances\u001B[39;00m\n\u001B[32m     42\u001B[39m accuracy = np.sum(np.uint8(predictions == y_test)) / \u001B[38;5;28mlen\u001B[39m(y_test)\n",
      "\u001B[36mCell\u001B[39m\u001B[36m \u001B[39m\u001B[32mIn[31]\u001B[39m\u001B[32m, line 110\u001B[39m, in \u001B[36mNaiveBayesClassifier.predict\u001B[39m\u001B[34m(self, X, return_pred)\u001B[39m\n\u001B[32m    108\u001B[39m \u001B[38;5;66;03m#faccio reshape\u001B[39;00m\n\u001B[32m    109\u001B[39m media_i_pixels=media_i_pixels.reshape((\u001B[32m1\u001B[39m,-\u001B[32m1\u001B[39m))\n\u001B[32m--> \u001B[39m\u001B[32m110\u001B[39m inv_cov = \u001B[43mnp\u001B[49m\u001B[43m.\u001B[49m\u001B[43mlinalg\u001B[49m\u001B[43m.\u001B[49m\u001B[43minv\u001B[49m\u001B[43m(\u001B[49m\u001B[38;5;28;43mself\u001B[39;49m\u001B[43m.\u001B[49m\u001B[43m_matrice_covarianza_com\u001B[49m\u001B[43m)\u001B[49m\n\u001B[32m    111\u001B[39m \u001B[38;5;66;03m# Calcolo probabilità log-gaussiana multivariata\u001B[39;00m\n\u001B[32m    112\u001B[39m diff = X - media_i_pixels  \u001B[38;5;66;03m# Differenza tra dati e media della classe\u001B[39;00m\n",
      "\u001B[36mFile \u001B[39m\u001B[32m~\\miniconda3\\Lib\\site-packages\\numpy\\linalg\\_linalg.py:602\u001B[39m, in \u001B[36minv\u001B[39m\u001B[34m(a)\u001B[39m\n\u001B[32m    498\u001B[39m \u001B[38;5;250m\u001B[39m\u001B[33;03m\"\"\"\u001B[39;00m\n\u001B[32m    499\u001B[39m \u001B[33;03mCompute the inverse of a matrix.\u001B[39;00m\n\u001B[32m    500\u001B[39m \n\u001B[32m   (...)\u001B[39m\u001B[32m    599\u001B[39m \n\u001B[32m    600\u001B[39m \u001B[33;03m\"\"\"\u001B[39;00m\n\u001B[32m    601\u001B[39m a, wrap = _makearray(a)\n\u001B[32m--> \u001B[39m\u001B[32m602\u001B[39m \u001B[43m_assert_stacked_2d\u001B[49m\u001B[43m(\u001B[49m\u001B[43ma\u001B[49m\u001B[43m)\u001B[49m\n\u001B[32m    603\u001B[39m _assert_stacked_square(a)\n\u001B[32m    604\u001B[39m t, result_t = _commonType(a)\n",
      "\u001B[36mFile \u001B[39m\u001B[32m~\\miniconda3\\Lib\\site-packages\\numpy\\linalg\\_linalg.py:195\u001B[39m, in \u001B[36m_assert_stacked_2d\u001B[39m\u001B[34m(*arrays)\u001B[39m\n\u001B[32m    193\u001B[39m \u001B[38;5;28;01mfor\u001B[39;00m a \u001B[38;5;129;01min\u001B[39;00m arrays:\n\u001B[32m    194\u001B[39m     \u001B[38;5;28;01mif\u001B[39;00m a.ndim < \u001B[32m2\u001B[39m:\n\u001B[32m--> \u001B[39m\u001B[32m195\u001B[39m         \u001B[38;5;28;01mraise\u001B[39;00m LinAlgError(\u001B[33m'\u001B[39m\u001B[38;5;132;01m%d\u001B[39;00m\u001B[33m-dimensional array given. Array must be \u001B[39m\u001B[33m'\u001B[39m\n\u001B[32m    196\u001B[39m                 \u001B[33m'\u001B[39m\u001B[33mat least two-dimensional\u001B[39m\u001B[33m'\u001B[39m % a.ndim)\n",
      "\u001B[31mLinAlgError\u001B[39m: 0-dimensional array given. Array must be at least two-dimensional"
     ]
    }
   ],
   "execution_count": 35
  },
  {
   "cell_type": "code",
   "metadata": {
    "id": "mXYFDINAYLpi",
    "ExecuteTime": {
     "end_time": "2025-03-20T16:48:51.607381400Z",
     "start_time": "2025-03-20T16:03:12.820547Z"
    }
   },
   "source": [
    "idx = np.random.randint(0, x_test.shape[0])\n",
    "\n",
    "x = x_test[idx]\n",
    "p = predictions[idx]\n",
    "y = y_test[idx]\n",
    "\n",
    "plt.imshow(x, cmap='gray')\n",
    "plt.title('Target: {}, Prediction: {}'.format(label_dict[int(y)], label_dict[int(p)]))"
   ],
   "outputs": [
    {
     "data": {
      "text/plain": [
       "Text(0.5, 1.0, 'Target: 8, Prediction: 8')"
      ]
     },
     "execution_count": 233,
     "metadata": {},
     "output_type": "execute_result"
    },
    {
     "data": {
      "text/plain": [
       "<Figure size 640x480 with 1 Axes>"
      ],
      "image/png": "[encoded data removed]"
     },
     "metadata": {},
     "output_type": "display_data"
    }
   ],
   "execution_count": 233
  },
  {
   "cell_type": "code",
   "metadata": {
    "id": "3iigFMnshb3u",
    "ExecuteTime": {
     "end_time": "2025-03-20T16:48:51.607381400Z",
     "start_time": "2025-03-20T16:03:13.196855Z"
    }
   },
   "source": [
    "from IPython.display import HTML, Image\n",
    "from google.colab.output import eval_js\n",
    "from base64 import b64decode\n",
    "import io\n",
    "from PIL import Image as PILimage\n",
    "\n",
    "canvas_html = \"\"\"\n",
    "<canvas width=256 height=256></canvas>\n",
    "<button>Finish</button>\n",
    "<script>\n",
    "var canvas = document.querySelector('canvas')\n",
    "var ctx = canvas.getContext('2d')\n",
    "ctx.strokeStyle = \"#FFFFFF\"\n",
    "ctx.fillStyle = \"#000000\";\n",
    "ctx.fillRect(0, 0, 256, 256)\n",
    "ctx.lineWidth = %d\n",
    "var button = document.querySelector('button')\n",
    "var mouse = {x: 0, y: 0}\n",
    "\n",
    "canvas.addEventListener('mousemove', function(e) {\n",
    "  mouse.x = e.pageX - this.offsetLeft\n",
    "  mouse.y = e.pageY - this.offsetTop\n",
    "})\n",
    "canvas.onmousedown = ()=>{\n",
    "  ctx.beginPath()\n",
    "  ctx.moveTo(mouse.x, mouse.y)\n",
    "  canvas.addEventListener('mousemove', onPaint)\n",
    "}\n",
    "canvas.onmouseup = ()=>{\n",
    "  canvas.removeEventListener('mousemove', onPaint)\n",
    "}\n",
    "var onPaint = ()=>{\n",
    "  ctx.lineTo(mouse.x, mouse.y)\n",
    "  ctx.stroke()\n",
    "}\n",
    "\n",
    "var data = new Promise(resolve=>{\n",
    "  button.onclick = ()=>{\n",
    "    resolve(canvas.toDataURL('image/png'))\n",
    "  }\n",
    "})\n",
    "</script>\n",
    "\"\"\"\n",
    "\n",
    "def draw(filename='drawing.png', line_width=5, centercrop=True):\n",
    "  display(HTML(canvas_html % (line_width, )))\n",
    "  data = eval_js(\"data\")\n",
    "  binary = b64decode(data.split(',')[1])\n",
    "  buf = io.BytesIO(binary)\n",
    "  img = PILimage.open(buf)\n",
    "  img = img.resize((28, 28), PILimage.BILINEAR)\n",
    "  img = img.convert('LA')\n",
    "  img = np.array(img)[:, :, 0]\n",
    "  img = img > 75\n",
    "\n",
    "  coords = np.argwhere(img)\n",
    "  x_min, y_min = coords.min(axis=0)\n",
    "  x_max, y_max = coords.max(axis=0)\n",
    "  cropped = img[x_min:x_max+1, y_min:y_max+1]\n",
    "\n",
    "  out_img = np.zeros((28,28))\n",
    "\n",
    "  delta_x, delta_y = (28 - cropped.shape[0]) // 2, (28 - cropped.shape[1]) // 2\n",
    "  out_img[delta_x:delta_x + cropped.shape[0], delta_y :delta_y + + cropped.shape[1]] = cropped\n",
    "\n",
    "  return out_img.astype(np.float32)"
   ],
   "outputs": [
    {
     "ename": "ModuleNotFoundError",
     "evalue": "No module named 'google'",
     "output_type": "error",
     "traceback": [
      "\u001B[31m---------------------------------------------------------------------------\u001B[39m",
      "\u001B[31mModuleNotFoundError\u001B[39m                       Traceback (most recent call last)",
      "\u001B[36mCell\u001B[39m\u001B[36m \u001B[39m\u001B[32mIn[234]\u001B[39m\u001B[32m, line 2\u001B[39m\n\u001B[32m      1\u001B[39m \u001B[38;5;28;01mfrom\u001B[39;00m \u001B[34;01mIPython\u001B[39;00m\u001B[34;01m.\u001B[39;00m\u001B[34;01mdisplay\u001B[39;00m \u001B[38;5;28;01mimport\u001B[39;00m HTML, Image\n\u001B[32m----> \u001B[39m\u001B[32m2\u001B[39m \u001B[38;5;28;01mfrom\u001B[39;00m \u001B[34;01mgoogle\u001B[39;00m\u001B[34;01m.\u001B[39;00m\u001B[34;01mcolab\u001B[39;00m\u001B[34;01m.\u001B[39;00m\u001B[34;01moutput\u001B[39;00m \u001B[38;5;28;01mimport\u001B[39;00m eval_js\n\u001B[32m      3\u001B[39m \u001B[38;5;28;01mfrom\u001B[39;00m \u001B[34;01mbase64\u001B[39;00m \u001B[38;5;28;01mimport\u001B[39;00m b64decode\n\u001B[32m      4\u001B[39m \u001B[38;5;28;01mimport\u001B[39;00m \u001B[34;01mio\u001B[39;00m\n",
      "\u001B[31mModuleNotFoundError\u001B[39m: No module named 'google'"
     ]
    }
   ],
   "execution_count": 234
  },
  {
   "cell_type": "code",
   "execution_count": null,
   "metadata": {
    "id": "rGhCAuM1k5aR"
   },
   "outputs": [],
   "source": [
    "img = draw(line_width=10)\n",
    "print(img.shape, img.dtype, np.unique(img))\n",
    "plt.imshow(img, cmap='Greys_r')\n",
    "\n",
    "pred, negllk = nbc.predict(img.reshape(1, 28*28), True)\n",
    "classes_ord = np.arange(len(np.unique(y_test)))[np.argsort(negllk)]\n",
    "classes_ord = np.flip(classes_ord)\n",
    "print(f'Predicted - {pred}')\n",
    "print(f'Scores: {negllk}')\n",
    "print(f'Classes ordered by scores: {classes_ord}')"
   ]
  },
  {
   "cell_type": "code",
   "execution_count": null,
   "metadata": {
    "id": "7GGqtBQUrYHN"
   },
   "outputs": [],
   "source": []
  }
 ],
 "metadata": {
  "colab": {
   "provenance": []
  },
  "kernelspec": {
   "display_name": "Python 3.8.12 ('torch')",
   "language": "python",
   "name": "python3"
  },
  "language_info": {
   "codemirror_mode": {
    "name": "ipython",
    "version": 3
   },
   "file_extension": ".py",
   "mimetype": "text/x-python",
   "name": "python",
   "nbconvert_exporter": "python",
   "pygments_lexer": "ipython3",
   "version": "3.8.12"
  },
  "toc": {
   "base_numbering": 1,
   "nav_menu": {},
   "number_sections": true,
   "sideBar": true,
   "skip_h1_title": false,
   "title_cell": "Table of Contents",
   "title_sidebar": "Contents",
   "toc_cell": false,
   "toc_position": {},
   "toc_section_display": true,
   "toc_window_display": false
  },
  "vscode": {
   "interpreter": {
    "hash": "a58c90aaaf62e5f8a47211752fce3a7bb3007b680eb2c05bbd7d19b8ca244527"
   }
  }
 },
 "nbformat": 4,
 "nbformat_minor": 0
}
