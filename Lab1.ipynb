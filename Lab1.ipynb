{
 "cells": [
  {
   "cell_type": "code",
   "id": "initial_id",
   "metadata": {
    "collapsed": true,
    "ExecuteTime": {
     "end_time": "2025-03-25T10:53:26.600537Z",
     "start_time": "2025-03-25T10:53:26.549461Z"
    }
   },
   "source": [
    "import random\n",
    "\n",
    "import numpy as np\n",
    "print(np)"
   ],
   "outputs": [
    {
     "name": "stdout",
     "output_type": "stream",
     "text": [
      "<module 'numpy' from 'C:\\\\Users\\\\moura\\\\miniconda3\\\\Lib\\\\site-packages\\\\numpy\\\\__init__.py'>\n"
     ]
    }
   ],
   "execution_count": 3
  },
  {
   "metadata": {},
   "cell_type": "markdown",
   "source": "3. Create a null vector of size 10S",
   "id": "2462225286663d91"
  },
  {
   "metadata": {
    "ExecuteTime": {
     "end_time": "2025-03-07T09:23:54.697861Z",
     "start_time": "2025-03-07T09:23:54.682969Z"
    }
   },
   "cell_type": "code",
   "source": [
    "a= np.empty(8)\n",
    "print(a)"
   ],
   "id": "1a48ba34ba304ccb",
   "outputs": [
    {
     "name": "stdout",
     "output_type": "stream",
     "text": [
      "[4.67296746e-307 1.69121096e-306 1.86921279e-306 1.89146896e-307\n",
      " 7.56571288e-307 3.11525958e-307 1.24610723e-306 1.29061142e-306]\n"
     ]
    }
   ],
   "execution_count": 21
  },
  {
   "metadata": {},
   "cell_type": "markdown",
   "source": " 4.How to find the memory size of any array",
   "id": "7d78bcceaf256540"
  },
  {
   "metadata": {
    "ExecuteTime": {
     "end_time": "2025-03-07T09:27:11.784004Z",
     "start_time": "2025-03-07T09:27:11.768464Z"
    }
   },
   "cell_type": "code",
   "source": [
    "a=np.array([1,2,3,4,5,6,7,8,9])\n",
    "print(a.size*a.itemsize)"
   ],
   "id": "e2212835e715aa35",
   "outputs": [
    {
     "name": "stdout",
     "output_type": "stream",
     "text": [
      "72\n"
     ]
    }
   ],
   "execution_count": 25
  },
  {
   "metadata": {},
   "cell_type": "markdown",
   "source": "5. How to get the documentation of the numpy add function from the command line?",
   "id": "cce0ec4953a62f7b"
  },
  {
   "metadata": {
    "ExecuteTime": {
     "end_time": "2025-03-07T09:30:16.226392Z",
     "start_time": "2025-03-07T09:30:15.860552Z"
    }
   },
   "cell_type": "code",
   "source": [
    "hint: np.info\n",
    "%run `python -c \"import numpy; numpy.info(numpy.add)\"`"
   ],
   "id": "db9a979ca70ccfee",
   "outputs": [
    {
     "ename": "Exception",
     "evalue": "File `'`python'` not found.",
     "output_type": "error",
     "traceback": [
      "\u001B[31m---------------------------------------------------------------------------\u001B[39m",
      "\u001B[31mOSError\u001B[39m                                   Traceback (most recent call last)",
      "\u001B[36mFile \u001B[39m\u001B[32m~\\miniconda3\\Lib\\site-packages\\IPython\\core\\magics\\execution.py:727\u001B[39m, in \u001B[36mExecutionMagics.run\u001B[39m\u001B[34m(self, parameter_s, runner, file_finder)\u001B[39m\n\u001B[32m    726\u001B[39m     fpath = arg_lst[\u001B[32m0\u001B[39m]\n\u001B[32m--> \u001B[39m\u001B[32m727\u001B[39m     filename = \u001B[43mfile_finder\u001B[49m\u001B[43m(\u001B[49m\u001B[43mfpath\u001B[49m\u001B[43m)\u001B[49m\n\u001B[32m    728\u001B[39m \u001B[38;5;28;01mexcept\u001B[39;00m \u001B[38;5;167;01mIndexError\u001B[39;00m \u001B[38;5;28;01mas\u001B[39;00m e:\n",
      "\u001B[36mFile \u001B[39m\u001B[32m~\\miniconda3\\Lib\\site-packages\\IPython\\utils\\path.py:90\u001B[39m, in \u001B[36mget_py_filename\u001B[39m\u001B[34m(name)\u001B[39m\n\u001B[32m     89\u001B[39m         \u001B[38;5;28;01mreturn\u001B[39;00m py_name\n\u001B[32m---> \u001B[39m\u001B[32m90\u001B[39m \u001B[38;5;28;01mraise\u001B[39;00m \u001B[38;5;167;01mIOError\u001B[39;00m(\u001B[33m\"\u001B[39m\u001B[33mFile `\u001B[39m\u001B[38;5;132;01m%r\u001B[39;00m\u001B[33m` not found.\u001B[39m\u001B[33m\"\u001B[39m % name)\n",
      "\u001B[31mOSError\u001B[39m: File `'`python'` not found.",
      "\nThe above exception was the direct cause of the following exception:\n",
      "\u001B[31mException\u001B[39m                                 Traceback (most recent call last)",
      "\u001B[36mCell\u001B[39m\u001B[36m \u001B[39m\u001B[32mIn[29]\u001B[39m\u001B[32m, line 2\u001B[39m\n\u001B[32m      1\u001B[39m hint: np.info\n\u001B[32m----> \u001B[39m\u001B[32m2\u001B[39m \u001B[43mget_ipython\u001B[49m\u001B[43m(\u001B[49m\u001B[43m)\u001B[49m\u001B[43m.\u001B[49m\u001B[43mrun_line_magic\u001B[49m\u001B[43m(\u001B[49m\u001B[33;43m'\u001B[39;49m\u001B[33;43mrun\u001B[39;49m\u001B[33;43m'\u001B[39;49m\u001B[43m,\u001B[49m\u001B[43m \u001B[49m\u001B[33;43m'\u001B[39;49m\u001B[33;43m`python -c \u001B[39;49m\u001B[33;43m\"\u001B[39;49m\u001B[33;43mimport numpy; numpy.info(numpy.add)\u001B[39;49m\u001B[33;43m\"\u001B[39;49m\u001B[33;43m`\u001B[39;49m\u001B[33;43m'\u001B[39;49m\u001B[43m)\u001B[49m\n",
      "\u001B[36mFile \u001B[39m\u001B[32m~\\miniconda3\\Lib\\site-packages\\IPython\\core\\interactiveshell.py:2478\u001B[39m, in \u001B[36mInteractiveShell.run_line_magic\u001B[39m\u001B[34m(self, magic_name, line, _stack_depth)\u001B[39m\n\u001B[32m   2476\u001B[39m     kwargs[\u001B[33m'\u001B[39m\u001B[33mlocal_ns\u001B[39m\u001B[33m'\u001B[39m] = \u001B[38;5;28mself\u001B[39m.get_local_scope(stack_depth)\n\u001B[32m   2477\u001B[39m \u001B[38;5;28;01mwith\u001B[39;00m \u001B[38;5;28mself\u001B[39m.builtin_trap:\n\u001B[32m-> \u001B[39m\u001B[32m2478\u001B[39m     result = \u001B[43mfn\u001B[49m\u001B[43m(\u001B[49m\u001B[43m*\u001B[49m\u001B[43margs\u001B[49m\u001B[43m,\u001B[49m\u001B[43m \u001B[49m\u001B[43m*\u001B[49m\u001B[43m*\u001B[49m\u001B[43mkwargs\u001B[49m\u001B[43m)\u001B[49m\n\u001B[32m   2480\u001B[39m \u001B[38;5;66;03m# The code below prevents the output from being displayed\u001B[39;00m\n\u001B[32m   2481\u001B[39m \u001B[38;5;66;03m# when using magics with decorator @output_can_be_silenced\u001B[39;00m\n\u001B[32m   2482\u001B[39m \u001B[38;5;66;03m# when the last Python token in the expression is a ';'.\u001B[39;00m\n\u001B[32m   2483\u001B[39m \u001B[38;5;28;01mif\u001B[39;00m \u001B[38;5;28mgetattr\u001B[39m(fn, magic.MAGIC_OUTPUT_CAN_BE_SILENCED, \u001B[38;5;28;01mFalse\u001B[39;00m):\n",
      "\u001B[36mFile \u001B[39m\u001B[32m~\\miniconda3\\Lib\\site-packages\\IPython\\core\\magics\\execution.py:738\u001B[39m, in \u001B[36mExecutionMagics.run\u001B[39m\u001B[34m(self, parameter_s, runner, file_finder)\u001B[39m\n\u001B[32m    736\u001B[39m     \u001B[38;5;28;01mif\u001B[39;00m os.name == \u001B[33m'\u001B[39m\u001B[33mnt\u001B[39m\u001B[33m'\u001B[39m \u001B[38;5;129;01mand\u001B[39;00m re.match(\u001B[33mr\u001B[39m\u001B[33m\"\u001B[39m\u001B[33m^\u001B[39m\u001B[33m'\u001B[39m\u001B[33m.*\u001B[39m\u001B[33m'\u001B[39m\u001B[33m$\u001B[39m\u001B[33m\"\u001B[39m,fpath):\n\u001B[32m    737\u001B[39m         warn(\u001B[33m'\u001B[39m\u001B[33mFor Windows, use double quotes to wrap a filename: \u001B[39m\u001B[38;5;132;01m%r\u001B[39;00m\u001B[33mun \u001B[39m\u001B[33m\"\u001B[39m\u001B[33mmypath\u001B[39m\u001B[38;5;130;01m\\\\\u001B[39;00m\u001B[33mmyfile.py\u001B[39m\u001B[33m\"\u001B[39m\u001B[33m'\u001B[39m)\n\u001B[32m--> \u001B[39m\u001B[32m738\u001B[39m     \u001B[38;5;28;01mraise\u001B[39;00m \u001B[38;5;167;01mException\u001B[39;00m(msg) \u001B[38;5;28;01mfrom\u001B[39;00m \u001B[34;01me\u001B[39;00m\n\u001B[32m    739\u001B[39m \u001B[38;5;28;01mexcept\u001B[39;00m \u001B[38;5;167;01mTypeError\u001B[39;00m:\n\u001B[32m    740\u001B[39m     \u001B[38;5;28;01mif\u001B[39;00m fpath \u001B[38;5;129;01min\u001B[39;00m sys.meta_path:\n",
      "\u001B[31mException\u001B[39m: File `'`python'` not found."
     ]
    }
   ],
   "execution_count": 29
  },
  {
   "metadata": {},
   "cell_type": "markdown",
   "source": "6. Create a null vector of size 10 but the fifth value which is 1",
   "id": "b1b991971a72f3a5"
  },
  {
   "metadata": {
    "ExecuteTime": {
     "end_time": "2025-03-20T12:08:00.773754Z",
     "start_time": "2025-03-20T12:08:00.762656Z"
    }
   },
   "cell_type": "code",
   "source": [
    "a=np.zeros((8,5))\n",
    "a[5]=1\n",
    "print(a)"
   ],
   "id": "4f042f0bc370b276",
   "outputs": [
    {
     "name": "stdout",
     "output_type": "stream",
     "text": [
      "[[0. 0. 0. 0. 0.]\n",
      " [0. 0. 0. 0. 0.]\n",
      " [0. 0. 0. 0. 0.]\n",
      " [0. 0. 0. 0. 0.]\n",
      " [0. 0. 0. 0. 0.]\n",
      " [1. 1. 1. 1. 1.]\n",
      " [0. 0. 0. 0. 0.]\n",
      " [0. 0. 0. 0. 0.]]\n"
     ]
    }
   ],
   "execution_count": 5
  },
  {
   "metadata": {},
   "cell_type": "markdown",
   "source": "7.Create a vector with values ranging from 10 to 49",
   "id": "c5c94b31154eb850"
  },
  {
   "metadata": {
    "ExecuteTime": {
     "end_time": "2025-03-07T09:37:15.244584Z",
     "start_time": "2025-03-07T09:37:15.144532Z"
    }
   },
   "cell_type": "code",
   "source": [
    "a=np.arange(10,49)\n",
    "print(a)"
   ],
   "id": "ce9055eb65a67c4c",
   "outputs": [
    {
     "name": "stdout",
     "output_type": "stream",
     "text": [
      "[10 11 12 13 14 15 16 17 18 19 20 21 22 23 24 25 26 27 28 29 30 31 32 33\n",
      " 34 35 36 37 38 39 40 41 42 43 44 45 46 47 48]\n"
     ]
    }
   ],
   "execution_count": 31
  },
  {
   "metadata": {},
   "cell_type": "markdown",
   "source": [
    "ESERCIZIO 1\n",
    "Write a function that takes a 1d numpy array and computes its reverse vector\n",
    "(last element becomes the first).\n",
    "oss:parti dall'ultimo e poi vai indietro fino alla fine di -1 ogni volta"
   ],
   "id": "ca0ce207766df6cb"
  },
  {
   "metadata": {
    "ExecuteTime": {
     "end_time": "2025-03-03T11:30:30.952572Z",
     "start_time": "2025-03-03T11:30:30.937285Z"
    }
   },
   "cell_type": "code",
   "source": [
    "a=np.arange(10)\n",
    "print(a[-1::-1])"
   ],
   "id": "415d8309f16a6d18",
   "outputs": [
    {
     "name": "stdout",
     "output_type": "stream",
     "text": [
      "[9 8 7 6 5 4 3 2 1 0]\n"
     ]
    }
   ],
   "execution_count": 36
  },
  {
   "metadata": {},
   "cell_type": "markdown",
   "source": [
    "\n",
    "9. Create a 3x3 matrix with values ranging from 0 to 8"
   ],
   "id": "c742f9e3a8eb09f4"
  },
  {
   "metadata": {
    "ExecuteTime": {
     "end_time": "2025-03-07T22:26:35.072373Z",
     "start_time": "2025-03-07T22:26:35.041103Z"
    }
   },
   "cell_type": "code",
   "source": [
    "a=np.arange(9).reshape(3,3)\n",
    "print(a)"
   ],
   "id": "e2b55295b9cb56cb",
   "outputs": [
    {
     "ename": "NameError",
     "evalue": "name 'np' is not defined",
     "output_type": "error",
     "traceback": [
      "\u001B[31m---------------------------------------------------------------------------\u001B[39m",
      "\u001B[31mNameError\u001B[39m                                 Traceback (most recent call last)",
      "\u001B[36mCell\u001B[39m\u001B[36m \u001B[39m\u001B[32mIn[5]\u001B[39m\u001B[32m, line 1\u001B[39m\n\u001B[32m----> \u001B[39m\u001B[32m1\u001B[39m a=\u001B[43mnp\u001B[49m.arange(\u001B[32m6\u001B[39m).reshape(\u001B[32m3\u001B[39m,\u001B[32m3\u001B[39m)\n\u001B[32m      2\u001B[39m \u001B[38;5;28mprint\u001B[39m(a)\n",
      "\u001B[31mNameError\u001B[39m: name 'np' is not defined"
     ]
    }
   ],
   "execution_count": 5
  },
  {
   "metadata": {},
   "cell_type": "markdown",
   "source": [
    "\n",
    "11. Create a 3x3 identity matrix "
   ],
   "id": "edf613310bce62fb"
  },
  {
   "metadata": {
    "ExecuteTime": {
     "end_time": "2025-03-07T09:49:59.904429Z",
     "start_time": "2025-03-07T09:49:59.887026Z"
    }
   },
   "cell_type": "code",
   "source": [
    "a=np.eye(2,2)\n",
    "print(a)"
   ],
   "id": "52f5f7b4262277c7",
   "outputs": [
    {
     "name": "stdout",
     "output_type": "stream",
     "text": [
      "[[1. 0.]\n",
      " [0. 1.]]\n"
     ]
    }
   ],
   "execution_count": 46
  },
  {
   "metadata": {},
   "cell_type": "markdown",
   "source": "12. Create a 3x3x3 array with random values ",
   "id": "b9700e2276595135"
  },
  {
   "metadata": {
    "ExecuteTime": {
     "end_time": "2025-03-07T22:32:31.669546Z",
     "start_time": "2025-03-07T22:32:31.664447Z"
    }
   },
   "cell_type": "code",
   "source": [
    "a=np.random.uniform(2,3,[3,3,3])\n",
    "print(a)"
   ],
   "id": "2212f4c1d45477b9",
   "outputs": [
    {
     "name": "stdout",
     "output_type": "stream",
     "text": [
      "[[[2.1551592  2.34587206 2.96762703]\n",
      "  [2.97424341 2.92942882 2.43413924]\n",
      "  [2.93821268 2.77596574 2.59980845]]\n",
      "\n",
      " [[2.61354474 2.94574721 2.52279096]\n",
      "  [2.35809125 2.75485014 2.78988861]\n",
      "  [2.24474409 2.52968561 2.29928018]]\n",
      "\n",
      " [[2.20430235 2.87011217 2.02001483]\n",
      "  [2.14061676 2.22927156 2.20413764]\n",
      "  [2.7194502  2.89275072 2.08406601]]]\n"
     ]
    }
   ],
   "execution_count": 28
  },
  {
   "metadata": {},
   "cell_type": "markdown",
   "source": "13. Create a 10x10 array with random values and find the minimum and maximum values ",
   "id": "c539905f4aad7d7"
  },
  {
   "metadata": {
    "ExecuteTime": {
     "end_time": "2025-03-07T22:36:27.529415Z",
     "start_time": "2025-03-07T22:36:27.523764Z"
    }
   },
   "cell_type": "code",
   "source": [
    "a=np.random.randint(2,4,[10,10])\n",
    "print(np.max(a))"
   ],
   "id": "76cedea4e866f071",
   "outputs": [
    {
     "name": "stdout",
     "output_type": "stream",
     "text": [
      "3\n"
     ]
    }
   ],
   "execution_count": 33
  },
  {
   "metadata": {},
   "cell_type": "markdown",
   "source": "14. Create a random vector of size 30 and find the mean value",
   "id": "2b75482929212f2c"
  },
  {
   "metadata": {
    "ExecuteTime": {
     "end_time": "2025-03-25T10:54:09.889265Z",
     "start_time": "2025-03-25T10:54:09.880822Z"
    }
   },
   "cell_type": "code",
   "source": [
    "a=np.random.randint(0,1,[30])\n",
    "print(np.mean(a))"
   ],
   "id": "521ebfe927e02263",
   "outputs": [
    {
     "name": "stdout",
     "output_type": "stream",
     "text": [
      "0.0\n"
     ]
    }
   ],
   "execution_count": 16
  },
  {
   "metadata": {},
   "cell_type": "markdown",
   "source": "15. Create a 2d array with 1 on the border and 0 inside",
   "id": "8cd0dca11090aeb2"
  },
  {
   "metadata": {
    "ExecuteTime": {
     "end_time": "2025-03-07T22:53:43.226867Z",
     "start_time": "2025-03-07T22:53:43.217680Z"
    }
   },
   "cell_type": "code",
   "source": [
    "a=np.ones([4,4])\n",
    "a[1:3,1:3] = 0\n",
    "print(a)"
   ],
   "id": "732fec89b552a9ac",
   "outputs": [
    {
     "name": "stdout",
     "output_type": "stream",
     "text": [
      "[[1. 1. 1. 1.]\n",
      " [1. 0. 0. 1.]\n",
      " [1. 0. 0. 1.]\n",
      " [1. 1. 1. 1.]]\n"
     ]
    }
   ],
   "execution_count": 67
  },
  {
   "metadata": {},
   "cell_type": "markdown",
   "source": "16. How to add a border (filled with 0's) around an existing array?",
   "id": "f5cacaa9dc03e66e"
  },
  {
   "metadata": {
    "ExecuteTime": {
     "end_time": "2025-03-07T23:04:12.542178Z",
     "start_time": "2025-03-07T23:04:12.535586Z"
    }
   },
   "cell_type": "code",
   "source": [
    "a=np.ones([4,4])\n",
    "a=np.pad(a,pad_width=1,mode='constant',constant_values=0)\n",
    "print(a)"
   ],
   "id": "e27aa4a795d6400d",
   "outputs": [
    {
     "name": "stdout",
     "output_type": "stream",
     "text": [
      "[[0. 0. 0. 0. 0. 0.]\n",
      " [0. 1. 1. 1. 1. 0.]\n",
      " [0. 1. 1. 1. 1. 0.]\n",
      " [0. 1. 1. 1. 1. 0.]\n",
      " [0. 1. 1. 1. 1. 0.]\n",
      " [0. 0. 0. 0. 0. 0.]]\n"
     ]
    }
   ],
   "execution_count": 86
  },
  {
   "metadata": {},
   "cell_type": "markdown",
   "source": "18. Create a 5x5 matrix with values 1,2,3,4 just below the diagonal",
   "id": "58b2286bf8b308bd"
  },
  {
   "metadata": {
    "ExecuteTime": {
     "end_time": "2025-03-08T10:45:27.661340Z",
     "start_time": "2025-03-08T10:45:27.649429Z"
    }
   },
   "cell_type": "code",
   "source": [
    "a=np.diag([1,2,3,4],-1)\n",
    "print(a)"
   ],
   "id": "9dafe05b6a1d1458",
   "outputs": [
    {
     "name": "stdout",
     "output_type": "stream",
     "text": [
      "[[0 0 0 0 0]\n",
      " [1 0 0 0 0]\n",
      " [0 2 0 0 0]\n",
      " [0 0 3 0 0]\n",
      " [0 0 0 4 0]]\n"
     ]
    }
   ],
   "execution_count": 102
  },
  {
   "metadata": {},
   "cell_type": "markdown",
   "source": "19. Create a 8x8 matrix and fill it with a checkerboard pattern",
   "id": "e124e9d68ac7ba20"
  },
  {
   "metadata": {
    "ExecuteTime": {
     "end_time": "2025-03-08T11:22:01.371697Z",
     "start_time": "2025-03-08T11:22:01.359272Z"
    }
   },
   "cell_type": "code",
   "source": [
    "a=np.ones([8,8])\n",
    "n=8\n",
    "a[::2,::2]=0\n",
    "a[1::2,1::2]=0   \n",
    "        \n",
    "print(a)"
   ],
   "id": "94f3ecf7bf60aab2",
   "outputs": [
    {
     "name": "stdout",
     "output_type": "stream",
     "text": [
      "[[0. 1. 0. 1. 0. 1. 0. 1.]\n",
      " [1. 0. 1. 0. 1. 0. 1. 0.]\n",
      " [0. 1. 0. 1. 0. 1. 0. 1.]\n",
      " [1. 0. 1. 0. 1. 0. 1. 0.]\n",
      " [0. 1. 0. 1. 0. 1. 0. 1.]\n",
      " [1. 0. 1. 0. 1. 0. 1. 0.]\n",
      " [0. 1. 0. 1. 0. 1. 0. 1.]\n",
      " [1. 0. 1. 0. 1. 0. 1. 0.]]\n"
     ]
    }
   ],
   "execution_count": 145
  },
  {
   "metadata": {},
   "cell_type": "markdown",
   "source": "20. Consider a (6,7,8) shape array, what is the index (x,y,z) of the 100th element? ",
   "id": "b655113c93c7c6c"
  },
  {
   "metadata": {
    "ExecuteTime": {
     "end_time": "2025-03-08T11:43:15.248729Z",
     "start_time": "2025-03-08T11:43:15.242508Z"
    }
   },
   "cell_type": "code",
   "source": [
    "a=np.ones([6,7,8])\n",
    "a[2,0:1,0:1]=3\n",
    "print(np.unravel_index(99,(6,7,8)))"
   ],
   "id": "89429303b04ae307",
   "outputs": [
    {
     "name": "stdout",
     "output_type": "stream",
     "text": [
      "(np.int64(1), np.int64(5), np.int64(3))\n"
     ]
    }
   ],
   "execution_count": 174
  },
  {
   "metadata": {},
   "cell_type": "markdown",
   "source": "22. Normalize a 5x5 random matrix",
   "id": "b5a6626462e7c945"
  },
  {
   "metadata": {
    "ExecuteTime": {
     "end_time": "2025-03-08T12:14:35.297853Z",
     "start_time": "2025-03-08T12:14:35.285480Z"
    }
   },
   "cell_type": "code",
   "source": [
    "a=np.random.randint(2,4,(5,5))\n",
    "a_norm=((a-np.mean(a))/(np.std(a)))\n",
    "print(a_norm)\n"
   ],
   "id": "5528067eb79781c7",
   "outputs": [
    {
     "name": "stdout",
     "output_type": "stream",
     "text": [
      "[[-0.88640526 -0.88640526  1.12815215  1.12815215  1.12815215]\n",
      " [ 1.12815215 -0.88640526  1.12815215 -0.88640526  1.12815215]\n",
      " [-0.88640526 -0.88640526  1.12815215 -0.88640526 -0.88640526]\n",
      " [-0.88640526  1.12815215 -0.88640526  1.12815215  1.12815215]\n",
      " [-0.88640526 -0.88640526 -0.88640526  1.12815215 -0.88640526]]\n"
     ]
    }
   ],
   "execution_count": 185
  },
  {
   "metadata": {},
   "cell_type": "markdown",
   "source": "24. Multiply a 5x3 matrix by a 3x2 matrix (real matrix product)",
   "id": "f5b92c74d93f1f05"
  },
  {
   "metadata": {
    "ExecuteTime": {
     "end_time": "2025-03-08T12:25:55.491460Z",
     "start_time": "2025-03-08T12:25:55.483268Z"
    }
   },
   "cell_type": "code",
   "source": [
    "a=np.ones((5,3))\n",
    "b=np.arange(6).reshape(3,2)\n",
    "c=np.matmul(a,b)#prodotto matriciale\n",
    "print(c)\n",
    "\n"
   ],
   "id": "f34563bb6cd47c4e",
   "outputs": [
    {
     "name": "stdout",
     "output_type": "stream",
     "text": [
      "[[1. 1. 1.]\n",
      " [1. 1. 1.]\n",
      " [1. 1. 1.]\n",
      " [1. 1. 1.]\n",
      " [1. 1. 1.]]\n",
      "[[0 1]\n",
      " [2 3]\n",
      " [4 5]]\n",
      "[[6. 9.]\n",
      " [6. 9.]\n",
      " [6. 9.]\n",
      " [6. 9.]\n",
      " [6. 9.]]\n"
     ]
    }
   ],
   "execution_count": 196
  },
  {
   "metadata": {},
   "cell_type": "markdown",
   "source": "25. Given a 1D array, negate all elements which are between 3 and 8, in place. ",
   "id": "c496d4160e412083"
  },
  {
   "metadata": {
    "ExecuteTime": {
     "end_time": "2025-03-08T12:34:11.496832Z",
     "start_time": "2025-03-08T12:34:11.482682Z"
    }
   },
   "cell_type": "code",
   "source": [
    "a=np.arange(10)\n",
    "a[3:9]*=-1\n",
    "print(a)"
   ],
   "id": "ec26c750d2ea4199",
   "outputs": [
    {
     "name": "stdout",
     "output_type": "stream",
     "text": [
      "[ 0  1  2 -3 -4 -5 -6 -7 -8  9]\n"
     ]
    }
   ],
   "execution_count": 210
  },
  {
   "metadata": {},
   "cell_type": "markdown",
   "source": "29. How to round away from zero a float array ?",
   "id": "eb8e24b3c9b48ef2"
  },
  {
   "metadata": {
    "ExecuteTime": {
     "end_time": "2025-03-25T10:54:41.351220Z",
     "start_time": "2025-03-25T10:54:41.344869Z"
    }
   },
   "cell_type": "code",
   "source": [
    "a=np.random.uniform(-6,10,[10])\n",
    "a=np.floor(a)#rende positivo il vettore\n",
    "print(a)"
   ],
   "id": "bd7d34b5f05445fb",
   "outputs": [
    {
     "name": "stdout",
     "output_type": "stream",
     "text": [
      "[0. 0. 0. 0. 0. 0. 0. 0. 0. 0.]\n"
     ]
    }
   ],
   "execution_count": 19
  },
  {
   "metadata": {},
   "cell_type": "markdown",
   "source": "36. Extract the integer part of a random array of positive numbers using 4 different methods ",
   "id": "66783170abe6b000"
  },
  {
   "metadata": {
    "ExecuteTime": {
     "end_time": "2025-03-08T13:09:16.023637Z",
     "start_time": "2025-03-08T13:09:16.009661Z"
    }
   },
   "cell_type": "code",
   "source": [
    "a=np.array([1,2.3,3.3])\n",
    "condition=a%1==0\n",
    "t=np.extract(condition,a)\n",
    "print(t)"
   ],
   "id": "1587a56b4cfd286d",
   "outputs": [
    {
     "name": "stdout",
     "output_type": "stream",
     "text": [
      "[1.]\n"
     ]
    }
   ],
   "execution_count": 258
  },
  {
   "metadata": {},
   "cell_type": "markdown",
   "source": "37. Create a 5x5 matrix with row values ranging from 0 to 4",
   "id": "f9d19171ceae3b1a"
  },
  {
   "metadata": {
    "ExecuteTime": {
     "end_time": "2025-03-08T13:19:25.808852Z",
     "start_time": "2025-03-08T13:19:25.799310Z"
    }
   },
   "cell_type": "code",
   "source": [
    "a=np.zeros((5,5))\n",
    "a+=np.arange(5).reshape(5,1)#con resceipe la fai diventare una colonna\n",
    "print(a)"
   ],
   "id": "6bea5d53550ee3d2",
   "outputs": [
    {
     "name": "stdout",
     "output_type": "stream",
     "text": [
      "[[0. 0. 0. 0. 0.]\n",
      " [1. 1. 1. 1. 1.]\n",
      " [2. 2. 2. 2. 2.]\n",
      " [3. 3. 3. 3. 3.]\n",
      " [4. 4. 4. 4. 4.]]\n"
     ]
    }
   ],
   "execution_count": 275
  },
  {
   "metadata": {},
   "cell_type": "markdown",
   "source": "39. Create a vector of size 10 with values ranging from 0 to 1, both excluded",
   "id": "3b090b074258b6f6"
  },
  {
   "metadata": {
    "ExecuteTime": {
     "end_time": "2025-03-09T11:01:01.950837Z",
     "start_time": "2025-03-09T11:01:01.934891Z"
    }
   },
   "cell_type": "code",
   "source": [
    "a=np.linspace(0.1,1.0,10)\n",
    "print(a)"
   ],
   "id": "2a7258c95a52060e",
   "outputs": [
    {
     "name": "stdout",
     "output_type": "stream",
     "text": [
      "[0.1 0.2 0.3 0.4 0.5 0.6 0.7 0.8 0.9 1. ]\n"
     ]
    }
   ],
   "execution_count": 5
  },
  {
   "metadata": {},
   "cell_type": "markdown",
   "source": [
    "ESERCIZIO 2\n",
    "Given the following square array, compute the product of the elements on its\n",
    "diagonal. [[1 3 8] [-1 3 0] [-3 9 2]]\n"
   ],
   "id": "1bcbbc2d63048d4c"
  },
  {
   "metadata": {},
   "cell_type": "markdown",
   "source": "40. Create a random vector of size 10 and sort it",
   "id": "d76c86184adafb70"
  },
  {
   "metadata": {
    "ExecuteTime": {
     "end_time": "2025-03-09T11:18:21.921308Z",
     "start_time": "2025-03-09T11:18:21.912210Z"
    }
   },
   "cell_type": "code",
   "source": [
    "a=np.random.randint(0,10,10)\n",
    "a.sort()\n",
    "print(a)"
   ],
   "id": "7b3a418170631d5d",
   "outputs": [
    {
     "name": "stdout",
     "output_type": "stream",
     "text": [
      "[1 2 2 2 3 3 8 8 9 9]\n"
     ]
    }
   ],
   "execution_count": 13
  },
  {
   "metadata": {},
   "cell_type": "markdown",
   "source": "42. Consider two random array A and B, check if they are equal",
   "id": "452ffdba7b17f343"
  },
  {
   "metadata": {
    "ExecuteTime": {
     "end_time": "2025-03-09T11:21:42.683698Z",
     "start_time": "2025-03-09T11:21:42.674736Z"
    }
   },
   "cell_type": "code",
   "source": [
    "a=np.array([1,2,3])\n",
    "b=np.array([1,2,3])\n",
    "print(np.array_equal(a,b))"
   ],
   "id": "74d7096850a53a46",
   "outputs": [
    {
     "name": "stdout",
     "output_type": "stream",
     "text": [
      "True\n"
     ]
    }
   ],
   "execution_count": 20
  },
  {
   "metadata": {},
   "cell_type": "markdown",
   "source": "45. Create random vector of size 10 and replace the maximum value by 0 ",
   "id": "e6ffe308a54c5125"
  },
  {
   "metadata": {
    "ExecuteTime": {
     "end_time": "2025-03-09T11:36:41.719279Z",
     "start_time": "2025-03-09T11:36:41.712129Z"
    }
   },
   "cell_type": "code",
   "source": [
    "a=np.random.randint(0,10,10)\n",
    "print(np.max(a))\n",
    "a=np.where(a==np.max(a),0,a)\n",
    "print(a)"
   ],
   "id": "4c763485b0b56d11",
   "outputs": [
    {
     "name": "stdout",
     "output_type": "stream",
     "text": [
      "9\n",
      "[6 0 6 3 4 5 7 0 0 6]\n"
     ]
    }
   ],
   "execution_count": 43
  },
  {
   "metadata": {},
   "cell_type": "markdown",
   "source": [
    " • Given two arrays a and b, compute how many time an item of a is higher than the\n",
    " corresponding element of b."
   ],
   "id": "d76dc04290405c50"
  },
  {
   "metadata": {
    "ExecuteTime": {
     "end_time": "2025-03-09T11:48:26.168168Z",
     "start_time": "2025-03-09T11:48:26.150037Z"
    }
   },
   "cell_type": "code",
   "source": [
    "a=np.array([[3,2,7], [1,2,3]])\n",
    "b=np.array([[2,2,4] ,[0,1,4]])\n",
    "print(np.greater(a,b))\n"
   ],
   "id": "c92e4c9cc3138995",
   "outputs": [
    {
     "name": "stdout",
     "output_type": "stream",
     "text": [
      "[[ True False  True]\n",
      " [ True  True False]]\n"
     ]
    }
   ],
   "execution_count": 55
  },
  {
   "metadata": {
    "ExecuteTime": {
     "end_time": "2025-03-03T11:48:31.737716Z",
     "start_time": "2025-03-03T11:48:31.712859Z"
    }
   },
   "cell_type": "code",
   "source": [
    "a=np.array([[1, 3, 8], [-1, 3, 0], [-3, 9, 2]])\n",
    "#modo 1\n",
    "print(a[0:1,0:1]+a[1:2,1:2]+a[2:3,2:3])\n",
    "#modo 2\n",
    "print(a.diagonal().sum())\n"
   ],
   "id": "c536c3746963f864",
   "outputs": [
    {
     "name": "stdout",
     "output_type": "stream",
     "text": [
      "[[6]]\n",
      "6\n"
     ]
    }
   ],
   "execution_count": 52
  }
 ],
 "metadata": {
  "kernelspec": {
   "display_name": "Python 3",
   "language": "python",
   "name": "python3"
  },
  "language_info": {
   "codemirror_mode": {
    "name": "ipython",
    "version": 2
   },
   "file_extension": ".py",
   "mimetype": "text/x-python",
   "name": "python",
   "nbconvert_exporter": "python",
   "pygments_lexer": "ipython2",
   "version": "2.7.6"
  }
 },
 "nbformat": 4,
 "nbformat_minor": 5
}
